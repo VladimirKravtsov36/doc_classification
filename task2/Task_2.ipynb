{
 "cells": [
  {
   "cell_type": "code",
   "execution_count": 1,
   "metadata": {},
   "outputs": [],
   "source": [
    "import numpy as np\n",
    "import scipy as sp\n",
    "import matplotlib.pyplot as plt\n",
    "import seaborn as sns\n",
    "\n",
    "%matplotlib inline"
   ]
  },
  {
   "cell_type": "markdown",
   "metadata": {},
   "source": [
    "# 2. Работа с массивами NumPy"
   ]
  },
  {
   "cell_type": "markdown",
   "metadata": {},
   "source": [
    "**N. Все упражнения ниже нужно делать без использования циклов Python**\n",
    "\n",
    "**2.1.** Cоздать вектор\n",
    "\n",
    "$$(2, \\frac{2^2}{2}, \\ldots, \\frac{2^{20}}{20})$$\n",
    "\n",
    "Можно использовать функции [np.arange()](http://docs.scipy.org/doc/numpy/reference/generated/numpy.arange.html), [np.ones()](http://docs.scipy.org/doc/numpy/reference/generated/numpy.ones.html)"
   ]
  },
  {
   "cell_type": "code",
   "execution_count": 2,
   "metadata": {},
   "outputs": [
    {
     "data": {
      "text/plain": [
       "array([2.00000000e+00, 2.00000000e+00, 2.66666667e+00, 4.00000000e+00,\n",
       "       6.40000000e+00, 1.06666667e+01, 1.82857143e+01, 3.20000000e+01,\n",
       "       5.68888889e+01, 1.02400000e+02, 1.86181818e+02, 3.41333333e+02,\n",
       "       6.30153846e+02, 1.17028571e+03, 2.18453333e+03, 4.09600000e+03,\n",
       "       7.71011765e+03, 1.45635556e+04, 2.75941053e+04, 5.24288000e+04])"
      ]
     },
     "execution_count": 2,
     "metadata": {},
     "output_type": "execute_result"
    }
   ],
   "source": [
    "(np.ones(20) * 2 ** np.arange(1, 21)) / np.arange(1, 21)"
   ]
  },
  {
   "cell_type": "markdown",
   "metadata": {},
   "source": [
    "**2.2.** Посчитать:\n",
    "\n",
    "$$\\sum\\limits_{i=0}^{5}{0.1^{3i}0.2^{4i}}$$\n"
   ]
  },
  {
   "cell_type": "code",
   "execution_count": 3,
   "metadata": {},
   "outputs": [
    {
     "data": {
      "text/plain": [
       "1.00000160000256"
      ]
     },
     "execution_count": 3,
     "metadata": {},
     "output_type": "execute_result"
    }
   ],
   "source": [
    "np.sum(0.1**(3*np.arange(0, 6)) * 0.2**(4*np.arange(0, 6)))"
   ]
  },
  {
   "cell_type": "markdown",
   "metadata": {},
   "source": [
    "**2.3.** Создать нулевую матрицe $8 \\times 8$, и заполнить её единицами в шахматном порядке."
   ]
  },
  {
   "cell_type": "code",
   "execution_count": 4,
   "metadata": {},
   "outputs": [
    {
     "data": {
      "text/plain": [
       "array([[1., 0., 1., 0., 1., 0., 1., 0.],\n",
       "       [0., 1., 0., 1., 0., 1., 0., 1.],\n",
       "       [1., 0., 1., 0., 1., 0., 1., 0.],\n",
       "       [0., 1., 0., 1., 0., 1., 0., 1.],\n",
       "       [1., 0., 1., 0., 1., 0., 1., 0.],\n",
       "       [0., 1., 0., 1., 0., 1., 0., 1.],\n",
       "       [1., 0., 1., 0., 1., 0., 1., 0.],\n",
       "       [0., 1., 0., 1., 0., 1., 0., 1.]])"
      ]
     },
     "execution_count": 4,
     "metadata": {},
     "output_type": "execute_result"
    }
   ],
   "source": [
    "zeros_matr = np.zeros((8,8))\n",
    "zeros_matr[1::2, 1::2] = 1\n",
    "zeros_matr[0::2, 0::2] = 1\n",
    "zeros_matr"
   ]
  },
  {
   "cell_type": "markdown",
   "metadata": {},
   "source": [
    "**2.4.** Есть 5 точек в декартовой системе координат (в виде матрицы $X$ размерностью $5 \\times 2$), сконвертируйте эти точки в полярную систему координат."
   ]
  },
  {
   "cell_type": "code",
   "execution_count": 5,
   "metadata": {},
   "outputs": [],
   "source": [
    "def to_polar(coords):\n",
    "    \n",
    "    r = np.linalg.norm(coords)\n",
    "    phi = np.arccos(coords[0]/r)\n",
    "    \n",
    "    return r, phi"
   ]
  },
  {
   "cell_type": "code",
   "execution_count": 6,
   "metadata": {},
   "outputs": [
    {
     "name": "stdout",
     "output_type": "stream",
     "text": [
      "Декартовы координаты:\n",
      " [[0.81765718 0.60165672]\n",
      " [0.90231047 0.43948543]\n",
      " [0.58857877 0.11125212]\n",
      " [0.72024005 0.84737245]\n",
      " [0.29171914 0.0055893 ]]\n",
      "Полярные координаты:\n",
      " [[1.01516209 0.63437049]\n",
      " [1.00364916 0.45324758]\n",
      " [0.59900084 0.18681422]\n",
      " [1.11210871 0.86632044]\n",
      " [0.29177268 0.01915751]]\n"
     ]
    }
   ],
   "source": [
    "X = np.random.random((5, 2))\n",
    "X_polar = np.apply_along_axis(to_polar, axis=1, arr=X)\n",
    "\n",
    "print('Декартовы координаты:\\n', X)\n",
    "print('Полярные координаты:\\n', X_polar)"
   ]
  },
  {
   "cell_type": "markdown",
   "metadata": {},
   "source": [
    "**2.5.** Найдите индексы максимального элемента в случайной матрице $10 \\times 10$.\n",
    "\n",
    "Cм. [np.argmax()](http://docs.scipy.org/doc/numpy/reference/generated/numpy.argmax.html)."
   ]
  },
  {
   "cell_type": "code",
   "execution_count": 7,
   "metadata": {},
   "outputs": [
    {
     "name": "stdout",
     "output_type": "stream",
     "text": [
      "1 2\n"
     ]
    }
   ],
   "source": [
    "X = np.random.random((10, 10))\n",
    "\n",
    "print(np.argmax(X) // 10, np.argmax(X) % 10)"
   ]
  },
  {
   "cell_type": "code",
   "execution_count": 8,
   "metadata": {},
   "outputs": [
    {
     "data": {
      "text/plain": [
       "(array([1]), array([2]))"
      ]
     },
     "execution_count": 8,
     "metadata": {},
     "output_type": "execute_result"
    }
   ],
   "source": [
    "# Проверка\n",
    "np.where(X == X.max())"
   ]
  },
  {
   "cell_type": "markdown",
   "metadata": {},
   "source": [
    "**2.6.** Есть 10 точек ($X$) и ещё одна ($y$). Найти в $X$ ближайшую к $y$ точку."
   ]
  },
  {
   "cell_type": "code",
   "execution_count": 9,
   "metadata": {},
   "outputs": [
    {
     "data": {
      "text/plain": [
       "array([0.63642629, 0.81821785])"
      ]
     },
     "execution_count": 9,
     "metadata": {},
     "output_type": "execute_result"
    }
   ],
   "source": [
    "X = np.random.random((10, 2))\n",
    "y = np.random.random((1, 2))\n",
    "\n",
    "distances = np.apply_along_axis(np.linalg.norm, axis=1, arr=X - y)\n",
    "X[distances.argmin()]"
   ]
  },
  {
   "cell_type": "markdown",
   "metadata": {},
   "source": [
    "**2.7.** Дана функция:\n",
    "\n",
    "$$\n",
    " \\begin{cases}\n",
    "    x^2 + 2x + 6, & x < 0  \\\\\n",
    "    x + 6, & 0 \\le x \\le 2 \\\\\n",
    "    x^2 + 4x - 4, & x \\ge 2\n",
    " \\end{cases}\n",
    "$$\n",
    "\n",
    "Постройте массив из её значений на  $-3 \\le x \\le 3$."
   ]
  },
  {
   "cell_type": "code",
   "execution_count": 10,
   "metadata": {},
   "outputs": [],
   "source": [
    "def func(x):\n",
    "    \n",
    "    if x < 0:\n",
    "        return x**2 + 2*x + 6\n",
    "    elif 0 <= x <= 2:\n",
    "        return x + 6\n",
    "    else:\n",
    "        return x**2 + 4*x - 4"
   ]
  },
  {
   "cell_type": "code",
   "execution_count": 11,
   "metadata": {},
   "outputs": [
    {
     "data": {
      "text/plain": [
       "array([ 9,  6,  5,  6,  7,  8, 17])"
      ]
     },
     "execution_count": 11,
     "metadata": {},
     "output_type": "execute_result"
    }
   ],
   "source": [
    "v_func = np.vectorize(func)\n",
    "v_func(np.arange(-3, 4))"
   ]
  },
  {
   "cell_type": "markdown",
   "metadata": {},
   "source": [
    "**2.8.** Из каждого элемента матрицы вычесть среднее арифметическое от всех элементов в соответствующей строке (после чего среднее значение каждой строки должно равняться нулю).\n",
    "\n",
    "Cм. [np.mean()](http://docs.scipy.org/doc/numpy/reference/generated/numpy.mean.html)."
   ]
  },
  {
   "cell_type": "code",
   "execution_count": 12,
   "metadata": {},
   "outputs": [
    {
     "data": {
      "text/plain": [
       "array([[ 0.11775197, -0.11238433,  0.27648672, -0.31370482, -0.08571367,\n",
       "        -0.34020748, -0.16902181,  0.46031537,  0.0146959 ,  0.15178214],\n",
       "       [ 0.49141582, -0.36175556,  0.05439405,  0.24278346, -0.27478257,\n",
       "        -0.42846824, -0.04480587,  0.47356916, -0.40822249,  0.25587224],\n",
       "       [ 0.17309577,  0.34017696, -0.3338262 , -0.32365003, -0.46610478,\n",
       "        -0.05267019,  0.34081334,  0.20945236,  0.07186144,  0.04085133],\n",
       "       [ 0.34059743, -0.24600171,  0.21562649, -0.21041089,  0.0982959 ,\n",
       "        -0.33814497, -0.37275025,  0.38139029, -0.22408438,  0.35548209],\n",
       "       [ 0.39273851,  0.01897577,  0.01113225, -0.45912638, -0.14786006,\n",
       "        -0.00702618,  0.39562231, -0.21712376,  0.28695782, -0.27429026],\n",
       "       [ 0.00059095, -0.11408575, -0.45215518, -0.17787941,  0.23685336,\n",
       "         0.15617598,  0.24666325,  0.14704368,  0.10045047, -0.14365736],\n",
       "       [ 0.01821371,  0.29132006, -0.53101118, -0.41253873,  0.23094143,\n",
       "        -0.13999222, -0.08053296,  0.38112068,  0.01898309,  0.22349613],\n",
       "       [ 0.19498114,  0.43582156, -0.25681491, -0.14099858,  0.24048784,\n",
       "         0.01378104, -0.05654694, -0.31800678, -0.11698019,  0.00427582],\n",
       "       [ 0.41108883, -0.31419985, -0.38608232,  0.23699605,  0.54204522,\n",
       "        -0.32351486, -0.09555705,  0.33006808, -0.17686287, -0.22398121],\n",
       "       [ 0.37977643, -0.03327278,  0.20724739,  0.2595907 , -0.27390495,\n",
       "         0.35790748,  0.04121081, -0.16888779, -0.36076817, -0.40889912]])"
      ]
     },
     "execution_count": 12,
     "metadata": {},
     "output_type": "execute_result"
    }
   ],
   "source": [
    "X = np.random.random((10, 10))\n",
    "\n",
    "(X - np.expand_dims(X.mean(axis=1), axis=1))"
   ]
  },
  {
   "cell_type": "code",
   "execution_count": 13,
   "metadata": {},
   "outputs": [
    {
     "data": {
      "text/plain": [
       "array([ 4.44089210e-17, -3.33066907e-17,  7.77156117e-17, -1.11022302e-17,\n",
       "       -2.22044605e-17, -4.44089210e-17,  1.11022302e-16,  0.00000000e+00,\n",
       "        1.11022302e-17,  1.11022302e-17])"
      ]
     },
     "execution_count": 13,
     "metadata": {},
     "output_type": "execute_result"
    }
   ],
   "source": [
    "# Проверка\n",
    "(X - np.expand_dims(X.mean(axis=1), axis=1)).mean(axis=1)"
   ]
  },
  {
   "cell_type": "markdown",
   "metadata": {},
   "source": [
    "**2.9.** Есть массив из 1000 чисел, полученных из генератора случайных чисел, имеющий нормальное распределение. Посчитайте выборочное среднее и выборочную дисперсию. "
   ]
  },
  {
   "cell_type": "code",
   "execution_count": 14,
   "metadata": {},
   "outputs": [
    {
     "name": "stdout",
     "output_type": "stream",
     "text": [
      "Среднее: 4.9033738940127645 Дисперсия: 4.025533121148183\n"
     ]
    }
   ],
   "source": [
    "X = np.random.normal(loc=5, scale=2., size=1000)\n",
    "print('Среднее:', X.mean(), 'Дисперсия:', X.var())"
   ]
  },
  {
   "cell_type": "markdown",
   "metadata": {},
   "source": [
    "**2.10.** Создать матрицу (NB. БЕЗ ЦИКЛОВ И ИЗМЕНЕНИЯ ОТДЕЛЬНЫХ ЭЛЕМЕНТОВ):\n",
    "\n",
    "$$\n",
    "\\begin{pmatrix}\n",
    "0 & 1 & 2 & 3 & 4 \\\\\n",
    "1 & 2 & 3 & 4 & 0 \\\\\n",
    "2 & 3 & 4 & 0 & 1 \\\\\n",
    "3 & 4 & 0 & 1 & 2 \\\\\n",
    "4 & 0 & 1 & 2 & 3\n",
    "\\end{pmatrix}\n",
    "$$"
   ]
  },
  {
   "cell_type": "code",
   "execution_count": 15,
   "metadata": {},
   "outputs": [],
   "source": [
    "X = np.array([[0, 1, 2, 3, 4]]) "
   ]
  },
  {
   "cell_type": "code",
   "execution_count": 16,
   "metadata": {},
   "outputs": [
    {
     "data": {
      "text/plain": [
       "array([[0, 1, 2, 3, 4],\n",
       "       [1, 2, 3, 4, 0],\n",
       "       [2, 3, 4, 0, 1],\n",
       "       [3, 4, 0, 1, 2],\n",
       "       [4, 0, 1, 2, 3]])"
      ]
     },
     "execution_count": 16,
     "metadata": {},
     "output_type": "execute_result"
    }
   ],
   "source": [
    "np.array(list(map(lambda shift: np.roll(X, -shift), np.arange(5))))[:, 0, :]"
   ]
  },
  {
   "cell_type": "code",
   "execution_count": 17,
   "metadata": {},
   "outputs": [
    {
     "data": {
      "text/plain": [
       "array([0, 1, 2, 3, 4])"
      ]
     },
     "execution_count": 17,
     "metadata": {},
     "output_type": "execute_result"
    }
   ],
   "source": [
    "np.arange(5)"
   ]
  },
  {
   "cell_type": "markdown",
   "metadata": {},
   "source": [
    "**2.11.** Есть следующий алгоритм семплинирования, на вход функции подается вектор из целых положительных чисел и число семплов."
   ]
  },
  {
   "cell_type": "code",
   "execution_count": 18,
   "metadata": {},
   "outputs": [],
   "source": [
    "np.random.seed(42)"
   ]
  },
  {
   "cell_type": "code",
   "execution_count": 19,
   "metadata": {},
   "outputs": [
    {
     "name": "stdout",
     "output_type": "stream",
     "text": [
      "[0, 4, 3, 0, 0]\n",
      "[0, 0, 4, 0, 3]\n",
      "[0, 4, 4, 0, 0]\n",
      "[0, 0, 0, 0, 0]\n",
      "[0, 0, 0, 0, 0]\n",
      "[4, 0, 0, 0, 0]\n",
      "[0, 0, 0, 4, 4]\n"
     ]
    }
   ],
   "source": [
    "def sample(x, c):\n",
    "    assert len(x) > 0\n",
    "    \n",
    "    s = np.sum(x)\n",
    "    res = []\n",
    "    for _ in range(c):\n",
    "        val = s * np.random.random()\n",
    "\n",
    "        cur, idx = 0, 0        \n",
    "        while cur + x[idx] <= val:\n",
    "            cur += x[idx]\n",
    "            idx += 1\n",
    "            \n",
    "        res.append(idx)\n",
    "    return res\n",
    "\n",
    "            \n",
    "print(sample([50, 3, 1, 7, 20], 5))\n",
    "print(sample([50, 3, 1, 7, 20], 5))\n",
    "print(sample([50, 3, 1, 7, 20], 5))\n",
    "print(sample([50, 3, 1, 7, 20], 5))\n",
    "print(sample([50, 3, 1, 7, 20], 5))\n",
    "print(sample([50, 3, 1, 7, 20], 5))\n",
    "print(sample([50, 3, 1, 7, 20], 5))"
   ]
  },
  {
   "cell_type": "markdown",
   "metadata": {},
   "source": [
    "Реализуйте данный алгоритм более оптимальным способом, без использования циклов."
   ]
  },
  {
   "cell_type": "code",
   "execution_count": 20,
   "metadata": {},
   "outputs": [],
   "source": [
    "np.random.seed(42)"
   ]
  },
  {
   "cell_type": "code",
   "execution_count": 21,
   "metadata": {},
   "outputs": [],
   "source": [
    "def get_one_sample(x, val):\n",
    "\n",
    "    cumsum = np.cumsum(x)\n",
    "    filtered = np.where(cumsum <= val, 1, 0)\n",
    "    idx = np.where(filtered==0)[0][0]    \n",
    "    \n",
    "    return idx          "
   ]
  },
  {
   "cell_type": "code",
   "execution_count": 22,
   "metadata": {},
   "outputs": [
    {
     "name": "stdout",
     "output_type": "stream",
     "text": [
      "[0, 4, 3, 0, 0]\n",
      "[0, 0, 4, 0, 3]\n",
      "[0, 4, 4, 0, 0]\n",
      "[0, 0, 0, 0, 0]\n",
      "[0, 0, 0, 0, 0]\n",
      "[4, 0, 0, 0, 0]\n",
      "[0, 0, 0, 4, 4]\n"
     ]
    }
   ],
   "source": [
    "def sample_numpy(x, c):\n",
    "    assert len(x) > 0\n",
    "    \n",
    "    s = np.sum(x)\n",
    "    vals = list(map(lambda _: s * np.random.random(), np.arange(5)))\n",
    "    res = list(map(lambda val: get_one_sample(x, val), vals))\n",
    "              \n",
    "    return res \n",
    "\n",
    "print(sample_numpy([50, 3, 1, 7, 20], 5))\n",
    "print(sample_numpy([50, 3, 1, 7, 20], 5))\n",
    "print(sample_numpy([50, 3, 1, 7, 20], 5))\n",
    "print(sample_numpy([50, 3, 1, 7, 20], 5))\n",
    "print(sample_numpy([50, 3, 1, 7, 20], 5))\n",
    "print(sample_numpy([50, 3, 1, 7, 20], 5))\n",
    "print(sample_numpy([50, 3, 1, 7, 20], 5))  "
   ]
  },
  {
   "cell_type": "code",
   "execution_count": null,
   "metadata": {},
   "outputs": [],
   "source": []
  },
  {
   "cell_type": "code",
   "execution_count": null,
   "metadata": {},
   "outputs": [],
   "source": []
  }
 ],
 "metadata": {
  "kernelspec": {
   "display_name": "Python 3 (ipykernel)",
   "language": "python",
   "name": "python3"
  },
  "language_info": {
   "codemirror_mode": {
    "name": "ipython",
    "version": 3
   },
   "file_extension": ".py",
   "mimetype": "text/x-python",
   "name": "python",
   "nbconvert_exporter": "python",
   "pygments_lexer": "ipython3",
   "version": "3.8.10"
  },
  "vscode": {
   "interpreter": {
    "hash": "916dbcbb3f70747c44a77c7bcd40155683ae19c65e1c03b4aa3499c5328201f1"
   }
  }
 },
 "nbformat": 4,
 "nbformat_minor": 4
}
