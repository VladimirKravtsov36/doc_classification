{
 "cells": [
  {
   "cell_type": "code",
   "execution_count": 1,
   "metadata": {},
   "outputs": [],
   "source": [
    "import numpy as np\n",
    "import scipy as sp\n",
    "import matplotlib.pyplot as plt\n",
    "import seaborn as sns\n",
    "\n",
    "%matplotlib inline"
   ]
  },
  {
   "cell_type": "markdown",
   "metadata": {},
   "source": [
    "# 2. Работа с массивами NumPy"
   ]
  },
  {
   "cell_type": "markdown",
   "metadata": {},
   "source": [
    "**N. Все упражнения ниже нужно делать без использования циклов Python**\n",
    "\n",
    "**2.1.** Cоздать вектор\n",
    "\n",
    "$$(2, \\frac{2^2}{2}, \\ldots, \\frac{2^{20}}{20})$$\n",
    "\n",
    "Можно использовать функции [np.arange()](http://docs.scipy.org/doc/numpy/reference/generated/numpy.arange.html), [np.ones()](http://docs.scipy.org/doc/numpy/reference/generated/numpy.ones.html)"
   ]
  },
  {
   "cell_type": "code",
   "execution_count": 2,
   "metadata": {},
   "outputs": [
    {
     "data": {
      "text/plain": [
       "array([2.00000000e+00, 2.00000000e+00, 2.66666667e+00, 4.00000000e+00,\n",
       "       6.40000000e+00, 1.06666667e+01, 1.82857143e+01, 3.20000000e+01,\n",
       "       5.68888889e+01, 1.02400000e+02, 1.86181818e+02, 3.41333333e+02,\n",
       "       6.30153846e+02, 1.17028571e+03, 2.18453333e+03, 4.09600000e+03,\n",
       "       7.71011765e+03, 1.45635556e+04, 2.75941053e+04, 5.24288000e+04])"
      ]
     },
     "execution_count": 2,
     "metadata": {},
     "output_type": "execute_result"
    }
   ],
   "source": [
    "(np.ones(20) * 2 ** np.arange(1, 21)) / np.arange(1, 21)"
   ]
  },
  {
   "cell_type": "markdown",
   "metadata": {},
   "source": [
    "**2.2.** Посчитать:\n",
    "\n",
    "$$\\sum\\limits_{i=0}^{5}{0.1^{3i}0.2^{4i}}$$\n"
   ]
  },
  {
   "cell_type": "code",
   "execution_count": 3,
   "metadata": {},
   "outputs": [
    {
     "data": {
      "text/plain": [
       "1.00000160000256"
      ]
     },
     "execution_count": 3,
     "metadata": {},
     "output_type": "execute_result"
    }
   ],
   "source": [
    "np.sum(0.1**(3*np.arange(0, 6)) * 0.2**(4*np.arange(0, 6)))"
   ]
  },
  {
   "cell_type": "markdown",
   "metadata": {},
   "source": [
    "**2.3.** Создать нулевую матрицe $8 \\times 8$, и заполнить её единицами в шахматном порядке."
   ]
  },
  {
   "cell_type": "code",
   "execution_count": 4,
   "metadata": {},
   "outputs": [
    {
     "data": {
      "text/plain": [
       "array([[1., 0., 1., 0., 1., 0., 1., 0.],\n",
       "       [0., 1., 0., 1., 0., 1., 0., 1.],\n",
       "       [1., 0., 1., 0., 1., 0., 1., 0.],\n",
       "       [0., 1., 0., 1., 0., 1., 0., 1.],\n",
       "       [1., 0., 1., 0., 1., 0., 1., 0.],\n",
       "       [0., 1., 0., 1., 0., 1., 0., 1.],\n",
       "       [1., 0., 1., 0., 1., 0., 1., 0.],\n",
       "       [0., 1., 0., 1., 0., 1., 0., 1.]])"
      ]
     },
     "execution_count": 4,
     "metadata": {},
     "output_type": "execute_result"
    }
   ],
   "source": [
    "zeros_matr = np.zeros((8,8))\n",
    "zeros_matr[1::2, 1::2] = 1\n",
    "zeros_matr[0::2, 0::2] = 1\n",
    "zeros_matr"
   ]
  },
  {
   "cell_type": "markdown",
   "metadata": {},
   "source": [
    "**2.4.** Есть 5 точек в декартовой системе координат (в виде матрицы $X$ размерностью $5 \\times 2$), сконвертируйте эти точки в полярную систему координат."
   ]
  },
  {
   "cell_type": "code",
   "execution_count": 6,
   "metadata": {},
   "outputs": [],
   "source": [
    "def to_polar(coords):\n",
    "    \n",
    "    r = np.linalg.norm(coords)\n",
    "    phi = np.arccos(coords[0]/r)\n",
    "    \n",
    "    return r, phi"
   ]
  },
  {
   "cell_type": "code",
   "execution_count": 7,
   "metadata": {},
   "outputs": [
    {
     "name": "stdout",
     "output_type": "stream",
     "text": [
      "Декартовы координаты:\n",
      " [[0.79726683 0.63658348]\n",
      " [0.95204999 0.03883057]\n",
      " [0.93582119 0.13885226]\n",
      " [0.80813949 0.51701254]\n",
      " [0.57197659 0.93639241]]\n",
      "Полярные координаты:\n",
      " [[1.0202318  0.67379953]\n",
      " [0.95284154 0.04076367]\n",
      " [0.9460662  0.14730011]\n",
      " [0.95937032 0.56914046]\n",
      " [1.09726386 1.02245162]]\n"
     ]
    }
   ],
   "source": [
    "X = np.random.random((5, 2))\n",
    "X_polar = np.apply_along_axis(to_polar, axis=1, arr=X)\n",
    "\n",
    "print('Декартовы координаты:\\n', X)\n",
    "print('Полярные координаты:\\n', X_polar)"
   ]
  },
  {
   "cell_type": "markdown",
   "metadata": {},
   "source": [
    "**2.5.** Найдите индексы максимального элемента в случайной матрице $10 \\times 10$.\n",
    "\n",
    "Cм. [np.argmax()](http://docs.scipy.org/doc/numpy/reference/generated/numpy.argmax.html)."
   ]
  },
  {
   "cell_type": "code",
   "execution_count": 8,
   "metadata": {},
   "outputs": [
    {
     "name": "stdout",
     "output_type": "stream",
     "text": [
      "1 8\n"
     ]
    }
   ],
   "source": [
    "X = np.random.random((10, 10))\n",
    "\n",
    "print(np.argmax(X) // 10, np.argmax(X) % 10)"
   ]
  },
  {
   "cell_type": "code",
   "execution_count": 9,
   "metadata": {},
   "outputs": [
    {
     "data": {
      "text/plain": [
       "(array([1]), array([8]))"
      ]
     },
     "execution_count": 9,
     "metadata": {},
     "output_type": "execute_result"
    }
   ],
   "source": [
    "# Проверка\n",
    "np.where(X == X.max())"
   ]
  },
  {
   "cell_type": "markdown",
   "metadata": {},
   "source": [
    "**2.6.** Есть 10 точек ($X$) и ещё одна ($y$). Найти в $X$ ближайшую к $y$ точку."
   ]
  },
  {
   "cell_type": "code",
   "execution_count": 10,
   "metadata": {},
   "outputs": [
    {
     "data": {
      "text/plain": [
       "array([0.66919911, 0.05890638])"
      ]
     },
     "execution_count": 10,
     "metadata": {},
     "output_type": "execute_result"
    }
   ],
   "source": [
    "X = np.random.random((10, 2))\n",
    "y = np.random.random((1, 2))\n",
    "\n",
    "distances = np.apply_along_axis(np.linalg.norm, axis=1, arr=X - y)\n",
    "X[distances.argmin()]"
   ]
  },
  {
   "cell_type": "markdown",
   "metadata": {},
   "source": [
    "**2.7.** Дана функция:\n",
    "\n",
    "$$\n",
    " \\begin{cases}\n",
    "    x^2 + 2x + 6, & x < 0  \\\\\n",
    "    x + 6, & 0 \\le x \\le 2 \\\\\n",
    "    x^2 + 4x - 4, & x \\ge 2\n",
    " \\end{cases}\n",
    "$$\n",
    "\n",
    "Постройте массив из её значений на  $-3 \\le x \\le 3$."
   ]
  },
  {
   "cell_type": "code",
   "execution_count": 11,
   "metadata": {},
   "outputs": [],
   "source": [
    "def func(x):\n",
    "    \n",
    "    if x < 0:\n",
    "        return x**2 + 2*x + 6\n",
    "    elif 0 <= x <= 2:\n",
    "        return x + 6\n",
    "    else:\n",
    "        return x**2 + 4*x - 4"
   ]
  },
  {
   "cell_type": "code",
   "execution_count": 12,
   "metadata": {},
   "outputs": [
    {
     "data": {
      "text/plain": [
       "array([ 9,  6,  5,  6,  7,  8, 17])"
      ]
     },
     "execution_count": 12,
     "metadata": {},
     "output_type": "execute_result"
    }
   ],
   "source": [
    "v_func = np.vectorize(func)\n",
    "v_func(np.arange(-3, 4))"
   ]
  },
  {
   "cell_type": "markdown",
   "metadata": {},
   "source": [
    "**2.8.** Из каждого элемента матрицы вычесть среднее арифметическое от всех элементов в соответствующей строке (после чего среднее значение каждой строки должно равняться нулю).\n",
    "\n",
    "Cм. [np.mean()](http://docs.scipy.org/doc/numpy/reference/generated/numpy.mean.html)."
   ]
  },
  {
   "cell_type": "code",
   "execution_count": 13,
   "metadata": {},
   "outputs": [
    {
     "data": {
      "text/plain": [
       "array([[-0.19762029, -0.4269559 , -0.35361143,  0.01303827,  0.33240572,\n",
       "         0.34957416, -0.08261689,  0.35387067, -0.36939671,  0.38131239],\n",
       "       [ 0.18636949, -0.18984479,  0.13955525,  0.17866217,  0.13907942,\n",
       "         0.05252254, -0.26619333, -0.21550682,  0.1868714 , -0.21151535],\n",
       "       [-0.08555149,  0.23312659,  0.28960585, -0.52511492,  0.21663687,\n",
       "         0.25714068,  0.14519483, -0.42193502,  0.14179984, -0.25090322],\n",
       "       [-0.26479083,  0.01406154,  0.43502616, -0.34402583,  0.33981944,\n",
       "        -0.40971349,  0.30715212, -0.11504283,  0.45276433, -0.41525062],\n",
       "       [ 0.01943348, -0.23462905,  0.39566097, -0.02948747, -0.17642213,\n",
       "        -0.25739902, -0.08795978, -0.331098  ,  0.42324667,  0.27865433],\n",
       "       [-0.2303882 , -0.24404511, -0.23211768,  0.36128695, -0.2095216 ,\n",
       "        -0.23153396,  0.45940202,  0.20653451,  0.39349627, -0.27311318],\n",
       "       [ 0.17785815, -0.23306108, -0.07210699,  0.03123024,  0.17824688,\n",
       "        -0.32082574, -0.4682076 ,  0.02470472,  0.18055676,  0.50160466],\n",
       "       [-0.20854755,  0.47769173, -0.36838593,  0.18784158, -0.28320603,\n",
       "        -0.16790802,  0.38242192, -0.12016799,  0.2575622 , -0.15730191],\n",
       "       [ 0.08320719, -0.32515847,  0.10389273, -0.3548109 ,  0.44208183,\n",
       "         0.09769589,  0.49045792, -0.28790156,  0.03493279, -0.28439743],\n",
       "       [-0.48979482,  0.35643886,  0.34669828,  0.39073118, -0.13512919,\n",
       "         0.12707894, -0.52085875, -0.23065945,  0.02030144,  0.13519351]])"
      ]
     },
     "execution_count": 13,
     "metadata": {},
     "output_type": "execute_result"
    }
   ],
   "source": [
    "X = np.random.random((10, 10))\n",
    "\n",
    "(X - np.expand_dims(X.mean(axis=1), axis=1))"
   ]
  },
  {
   "cell_type": "code",
   "execution_count": 14,
   "metadata": {},
   "outputs": [
    {
     "data": {
      "text/plain": [
       "array([-1.11022302e-17,  1.11022302e-16, -3.33066907e-17,  1.11022302e-17,\n",
       "        3.33066907e-17, -2.22044605e-17, -6.66133815e-17,  1.55431223e-16,\n",
       "       -3.33066907e-17,  1.11022302e-17])"
      ]
     },
     "execution_count": 14,
     "metadata": {},
     "output_type": "execute_result"
    }
   ],
   "source": [
    "# Проверка\n",
    "(X - np.expand_dims(X.mean(axis=1), axis=1)).mean(axis=1)"
   ]
  },
  {
   "cell_type": "markdown",
   "metadata": {},
   "source": [
    "**2.9.** Есть массив из 1000 чисел, полученных из генератора случайных чисел, имеющий нормальное распределение. Посчитайте выборочное среднее и выборочную дисперсию. "
   ]
  },
  {
   "cell_type": "code",
   "execution_count": 15,
   "metadata": {},
   "outputs": [
    {
     "name": "stdout",
     "output_type": "stream",
     "text": [
      "Среднее: 4.971739892959535 Дисперсия: 4.148248456051955\n"
     ]
    }
   ],
   "source": [
    "X = np.random.normal(loc=5, scale=2., size=1000)\n",
    "print('Среднее:', X.mean(), 'Дисперсия:', X.var())"
   ]
  },
  {
   "cell_type": "markdown",
   "metadata": {},
   "source": [
    "**2.10.** Создать матрицу (NB. БЕЗ ЦИКЛОВ И ИЗМЕНЕНИЯ ОТДЕЛЬНЫХ ЭЛЕМЕНТОВ):\n",
    "\n",
    "$$\n",
    "\\begin{pmatrix}\n",
    "0 & 1 & 2 & 3 & 4 \\\\\n",
    "1 & 2 & 3 & 4 & 0 \\\\\n",
    "2 & 3 & 4 & 0 & 1 \\\\\n",
    "3 & 4 & 0 & 1 & 2 \\\\\n",
    "4 & 0 & 1 & 2 & 3\n",
    "\\end{pmatrix}\n",
    "$$"
   ]
  },
  {
   "cell_type": "code",
   "execution_count": 16,
   "metadata": {},
   "outputs": [],
   "source": [
    "X = np.array([[0, 1, 2, 3, 4]]) "
   ]
  },
  {
   "cell_type": "code",
   "execution_count": 17,
   "metadata": {},
   "outputs": [
    {
     "data": {
      "text/plain": [
       "array([[0, 1, 2, 3, 4],\n",
       "       [1, 2, 3, 4, 0],\n",
       "       [2, 3, 4, 0, 1],\n",
       "       [3, 4, 0, 1, 2],\n",
       "       [4, 0, 1, 2, 3]])"
      ]
     },
     "execution_count": 17,
     "metadata": {},
     "output_type": "execute_result"
    }
   ],
   "source": [
    "np.array(list(map(lambda shift: np.roll(X, -shift), np.arange(5))))[:, 0, :]"
   ]
  },
  {
   "cell_type": "code",
   "execution_count": 18,
   "metadata": {},
   "outputs": [
    {
     "data": {
      "text/plain": [
       "array([0, 1, 2, 3, 4])"
      ]
     },
     "execution_count": 18,
     "metadata": {},
     "output_type": "execute_result"
    }
   ],
   "source": [
    "np.arange(5)"
   ]
  },
  {
   "cell_type": "markdown",
   "metadata": {},
   "source": [
    "**2.11.** Есть следующий алгоритм семплинирования, на вход функции подается вектор из целых положительных чисел и число семплов."
   ]
  },
  {
   "cell_type": "code",
   "execution_count": 149,
   "metadata": {},
   "outputs": [],
   "source": [
    "np.random.seed(42)"
   ]
  },
  {
   "cell_type": "code",
   "execution_count": 150,
   "metadata": {},
   "outputs": [
    {
     "name": "stdout",
     "output_type": "stream",
     "text": [
      "[0, 4, 3, 0, 0]\n",
      "[0, 0, 4, 0, 3]\n",
      "[0, 4, 4, 0, 0]\n",
      "[0, 0, 0, 0, 0]\n",
      "[0, 0, 0, 0, 0]\n",
      "[4, 0, 0, 0, 0]\n",
      "[0, 0, 0, 4, 4]\n"
     ]
    }
   ],
   "source": [
    "def sample(x, c):\n",
    "    assert len(x) > 0\n",
    "    \n",
    "    s = np.sum(x)\n",
    "    res = []\n",
    "    for _ in range(c):\n",
    "        val = s * np.random.random()\n",
    "\n",
    "        cur, idx = 0, 0        \n",
    "        while cur + x[idx] <= val:\n",
    "            cur += x[idx]\n",
    "            idx += 1\n",
    "            \n",
    "        res.append(idx)\n",
    "    return res\n",
    "\n",
    "            \n",
    "print(sample([50, 3, 1, 7, 20], 5))\n",
    "print(sample([50, 3, 1, 7, 20], 5))\n",
    "print(sample([50, 3, 1, 7, 20], 5))\n",
    "print(sample([50, 3, 1, 7, 20], 5))\n",
    "print(sample([50, 3, 1, 7, 20], 5))\n",
    "print(sample([50, 3, 1, 7, 20], 5))\n",
    "print(sample([50, 3, 1, 7, 20], 5))"
   ]
  },
  {
   "cell_type": "markdown",
   "metadata": {},
   "source": [
    "Реализуйте данный алгоритм более оптимальным способом, без использования циклов."
   ]
  },
  {
   "cell_type": "code",
   "execution_count": 151,
   "metadata": {},
   "outputs": [],
   "source": [
    "np.random.seed(42)"
   ]
  },
  {
   "cell_type": "code",
   "execution_count": 152,
   "metadata": {},
   "outputs": [],
   "source": [
    "def get_one_sample(x, val):\n",
    "\n",
    "    cumsum = np.cumsum(x)\n",
    "    filtered = np.where(cumsum <= val, 1, 0)\n",
    "    idx = np.where(filtered==0)[0][0]    \n",
    "    \n",
    "    return idx          "
   ]
  },
  {
   "cell_type": "code",
   "execution_count": 153,
   "metadata": {},
   "outputs": [
    {
     "name": "stdout",
     "output_type": "stream",
     "text": [
      "[0, 4, 3, 0, 0]\n",
      "[0, 0, 4, 0, 3]\n",
      "[0, 4, 4, 0, 0]\n",
      "[0, 0, 0, 0, 0]\n",
      "[0, 0, 0, 0, 0]\n",
      "[4, 0, 0, 0, 0]\n",
      "[0, 0, 0, 4, 4]\n"
     ]
    }
   ],
   "source": [
    "def sample_numpy(x, c):\n",
    "    assert len(x) > 0\n",
    "    \n",
    "    s = np.sum(x)\n",
    "    vals = list(map(lambda _: s * np.random.random(), np.arange(5)))\n",
    "    res = list(map(lambda val: get_one_sample(x, val), vals))\n",
    "              \n",
    "    return res \n",
    "\n",
    "print(sample_numpy([50, 3, 1, 7, 20], 5))\n",
    "print(sample_numpy([50, 3, 1, 7, 20], 5))\n",
    "print(sample_numpy([50, 3, 1, 7, 20], 5))\n",
    "print(sample_numpy([50, 3, 1, 7, 20], 5))\n",
    "print(sample_numpy([50, 3, 1, 7, 20], 5))\n",
    "print(sample_numpy([50, 3, 1, 7, 20], 5))\n",
    "print(sample_numpy([50, 3, 1, 7, 20], 5))  "
   ]
  },
  {
   "cell_type": "code",
   "execution_count": null,
   "metadata": {},
   "outputs": [],
   "source": []
  }
 ],
 "metadata": {
  "kernelspec": {
   "display_name": "Python 3 (ipykernel)",
   "language": "python",
   "name": "python3"
  },
  "language_info": {
   "codemirror_mode": {
    "name": "ipython",
    "version": 3
   },
   "file_extension": ".py",
   "mimetype": "text/x-python",
   "name": "python",
   "nbconvert_exporter": "python",
   "pygments_lexer": "ipython3",
   "version": "3.8.10"
  },
  "vscode": {
   "interpreter": {
    "hash": "916dbcbb3f70747c44a77c7bcd40155683ae19c65e1c03b4aa3499c5328201f1"
   }
  }
 },
 "nbformat": 4,
 "nbformat_minor": 4
}
