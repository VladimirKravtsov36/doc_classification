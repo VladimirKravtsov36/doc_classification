{
 "cells": [
  {
   "cell_type": "markdown",
   "metadata": {},
   "source": [
    "# Задание 6. Классификация новостей\n",
    "\n",
    "### Данные\n",
    "Данные в [архиве](https://drive.google.com/file/d/15o7fdxTgndoy6K-e7g8g1M2-bOOwqZPl/view?usp=sharing). В нём два файла:\n",
    "- `news_train.txt` тестовое множество\n",
    "- `news_test.txt` тренировочное множество\n",
    "\n",
    "С некоторых новостных сайтов были загружены тексты новостей за период  несколько лет, причем каждая новость принаделжит к какой-то рубрике: `science`, `style`, `culture`, `life`, `economics`, `business`, `travel`, `forces`, `media`, `sport`.\n",
    "\n",
    "В каждой строке файла содержится метка рубрики, заголовок новостной статьи и сам текст статьи, например:\n",
    "\n",
    ">    **sport**&nbsp;&lt;tab&gt;&nbsp;**Сборная Канады по хоккею разгромила чехов**&nbsp;&lt;tab&gt;&nbsp;**Сборная Канады по хоккею крупно об...**"
   ]
  },
  {
   "cell_type": "markdown",
   "metadata": {},
   "source": [
    "## Задание 6.1 \n",
    "\n",
    "Обработать данные, получив для каждого текста набор токенов\n",
    "Обработать токены с помощью (один вариант из трех):\n",
    "\n",
    "- pymorphy2\n",
    "- русского [snowball стеммера](https://www.nltk.org/howto/stem.html)\n",
    "- [SentencePiece](https://github.com/google/sentencepiece) или [Huggingface Tokenizers](https://github.com/huggingface/tokenizers)"
   ]
  },
  {
   "cell_type": "code",
   "execution_count": 1,
   "metadata": {},
   "outputs": [],
   "source": [
    "import pandas as pd\n",
    "import pymorphy2\n",
    "import re"
   ]
  },
  {
   "cell_type": "code",
   "execution_count": 2,
   "metadata": {},
   "outputs": [],
   "source": [
    "news_train = pd.read_csv(\n",
    "    'news/news_train.txt',\n",
    "    sep='\\t',\n",
    "    header=None,\n",
    "    names=['label', 'header', 'text'],\n",
    ")\n",
    "news_test = pd.read_csv(\n",
    "    'news/news_test.txt',\n",
    "    sep='\\t',\n",
    "    header=None,\n",
    "    names=['label', 'header', 'text'],\n",
    ")"
   ]
  },
  {
   "cell_type": "code",
   "execution_count": 3,
   "metadata": {},
   "outputs": [
    {
     "data": {
      "text/html": [
       "<div>\n",
       "<style scoped>\n",
       "    .dataframe tbody tr th:only-of-type {\n",
       "        vertical-align: middle;\n",
       "    }\n",
       "\n",
       "    .dataframe tbody tr th {\n",
       "        vertical-align: top;\n",
       "    }\n",
       "\n",
       "    .dataframe thead th {\n",
       "        text-align: right;\n",
       "    }\n",
       "</style>\n",
       "<table border=\"1\" class=\"dataframe\">\n",
       "  <thead>\n",
       "    <tr style=\"text-align: right;\">\n",
       "      <th></th>\n",
       "      <th>label</th>\n",
       "      <th>header</th>\n",
       "      <th>text</th>\n",
       "    </tr>\n",
       "  </thead>\n",
       "  <tbody>\n",
       "    <tr>\n",
       "      <th>0</th>\n",
       "      <td>sport</td>\n",
       "      <td>Овечкин пожертвовал детской хоккейной школе ав...</td>\n",
       "      <td>Нападающий «Вашингтон Кэпиталз» Александр Овеч...</td>\n",
       "    </tr>\n",
       "    <tr>\n",
       "      <th>1</th>\n",
       "      <td>culture</td>\n",
       "      <td>Рекордно дорогую статую майя признали подделкой</td>\n",
       "      <td>Власти Мексики объявили подделкой статую майя,...</td>\n",
       "    </tr>\n",
       "    <tr>\n",
       "      <th>2</th>\n",
       "      <td>science</td>\n",
       "      <td>Samsung представила флагман в защищенном корпусе</td>\n",
       "      <td>Южнокорейская Samsung анонсировала защищенную ...</td>\n",
       "    </tr>\n",
       "    <tr>\n",
       "      <th>3</th>\n",
       "      <td>sport</td>\n",
       "      <td>С футболиста «Спартака» сняли четырехматчевую ...</td>\n",
       "      <td>Контрольно-дисциплинарный комитет (КДК) РФС сн...</td>\n",
       "    </tr>\n",
       "    <tr>\n",
       "      <th>4</th>\n",
       "      <td>media</td>\n",
       "      <td>Hopes &amp; Fears объединится с The Village</td>\n",
       "      <td>Интернет-издание Hopes &amp; Fears объявило о свое...</td>\n",
       "    </tr>\n",
       "    <tr>\n",
       "      <th>...</th>\n",
       "      <td>...</td>\n",
       "      <td>...</td>\n",
       "      <td>...</td>\n",
       "    </tr>\n",
       "    <tr>\n",
       "      <th>14995</th>\n",
       "      <td>life</td>\n",
       "      <td>Составлен рейтинг лучших европейских пляжей 20...</td>\n",
       "      <td>Опубликован рейтинг лучших европейских пляжей ...</td>\n",
       "    </tr>\n",
       "    <tr>\n",
       "      <th>14996</th>\n",
       "      <td>media</td>\n",
       "      <td>В «Снобе» объяснили причину смены формата</td>\n",
       "      <td>Генеральный директор «Сноб медиа» Марина Гевор...</td>\n",
       "    </tr>\n",
       "    <tr>\n",
       "      <th>14997</th>\n",
       "      <td>economics</td>\n",
       "      <td>Минфин предложил штрафовать за биткоины на 50 ...</td>\n",
       "      <td>Минфин разработал законопроект, устанавливающи...</td>\n",
       "    </tr>\n",
       "    <tr>\n",
       "      <th>14998</th>\n",
       "      <td>life</td>\n",
       "      <td>Мэл Гибсон заплатит бывшей подруге 750 тысяч д...</td>\n",
       "      <td>Актер и режиссер Мэл Гибсон выплатит своей быв...</td>\n",
       "    </tr>\n",
       "    <tr>\n",
       "      <th>14999</th>\n",
       "      <td>media</td>\n",
       "      <td>Еще на двух линиях московского метро заработал...</td>\n",
       "      <td>На Серпуховско-Тимирязевской и Бутовской линия...</td>\n",
       "    </tr>\n",
       "  </tbody>\n",
       "</table>\n",
       "<p>15000 rows × 3 columns</p>\n",
       "</div>"
      ],
      "text/plain": [
       "           label                                             header  \\\n",
       "0          sport  Овечкин пожертвовал детской хоккейной школе ав...   \n",
       "1        culture    Рекордно дорогую статую майя признали подделкой   \n",
       "2        science   Samsung представила флагман в защищенном корпусе   \n",
       "3          sport  С футболиста «Спартака» сняли четырехматчевую ...   \n",
       "4          media            Hopes & Fears объединится с The Village   \n",
       "...          ...                                                ...   \n",
       "14995       life  Составлен рейтинг лучших европейских пляжей 20...   \n",
       "14996      media          В «Снобе» объяснили причину смены формата   \n",
       "14997  economics  Минфин предложил штрафовать за биткоины на 50 ...   \n",
       "14998       life  Мэл Гибсон заплатит бывшей подруге 750 тысяч д...   \n",
       "14999      media  Еще на двух линиях московского метро заработал...   \n",
       "\n",
       "                                                    text  \n",
       "0      Нападающий «Вашингтон Кэпиталз» Александр Овеч...  \n",
       "1      Власти Мексики объявили подделкой статую майя,...  \n",
       "2      Южнокорейская Samsung анонсировала защищенную ...  \n",
       "3      Контрольно-дисциплинарный комитет (КДК) РФС сн...  \n",
       "4      Интернет-издание Hopes & Fears объявило о свое...  \n",
       "...                                                  ...  \n",
       "14995  Опубликован рейтинг лучших европейских пляжей ...  \n",
       "14996  Генеральный директор «Сноб медиа» Марина Гевор...  \n",
       "14997  Минфин разработал законопроект, устанавливающи...  \n",
       "14998  Актер и режиссер Мэл Гибсон выплатит своей быв...  \n",
       "14999  На Серпуховско-Тимирязевской и Бутовской линия...  \n",
       "\n",
       "[15000 rows x 3 columns]"
      ]
     },
     "execution_count": 3,
     "metadata": {},
     "output_type": "execute_result"
    }
   ],
   "source": [
    "news_train"
   ]
  },
  {
   "cell_type": "code",
   "execution_count": 4,
   "metadata": {},
   "outputs": [
    {
     "data": {
      "text/html": [
       "<div>\n",
       "<style scoped>\n",
       "    .dataframe tbody tr th:only-of-type {\n",
       "        vertical-align: middle;\n",
       "    }\n",
       "\n",
       "    .dataframe tbody tr th {\n",
       "        vertical-align: top;\n",
       "    }\n",
       "\n",
       "    .dataframe thead th {\n",
       "        text-align: right;\n",
       "    }\n",
       "</style>\n",
       "<table border=\"1\" class=\"dataframe\">\n",
       "  <thead>\n",
       "    <tr style=\"text-align: right;\">\n",
       "      <th></th>\n",
       "      <th>label</th>\n",
       "      <th>header</th>\n",
       "      <th>text</th>\n",
       "    </tr>\n",
       "  </thead>\n",
       "  <tbody>\n",
       "    <tr>\n",
       "      <th>0</th>\n",
       "      <td>culture</td>\n",
       "      <td>Жительница Ямала победила в первом песенном ко...</td>\n",
       "      <td>Жительница Ямало-Ненецкого автономного округа ...</td>\n",
       "    </tr>\n",
       "    <tr>\n",
       "      <th>1</th>\n",
       "      <td>media</td>\n",
       "      <td>Почти половина Twitter-пользователей никогда н...</td>\n",
       "      <td>Около 44 процентов из всех зарегистрированных ...</td>\n",
       "    </tr>\n",
       "    <tr>\n",
       "      <th>2</th>\n",
       "      <td>media</td>\n",
       "      <td>Билайн начал рекламу роуминга под песенку \"Тро...</td>\n",
       "      <td>В новой рекламной кампании мобильного оператор...</td>\n",
       "    </tr>\n",
       "    <tr>\n",
       "      <th>3</th>\n",
       "      <td>business</td>\n",
       "      <td>Saipem потеряла 1,2 миллиарда евро из-за отмен...</td>\n",
       "      <td>Дочерняя структура итальянского нефтегазового ...</td>\n",
       "    </tr>\n",
       "    <tr>\n",
       "      <th>4</th>\n",
       "      <td>culture</td>\n",
       "      <td>Вин Дизель назвал «Форсаж 7» достойным «Оскара»</td>\n",
       "      <td>Актер Вин Дизель заявил, что боевик «Форсаж 7»...</td>\n",
       "    </tr>\n",
       "    <tr>\n",
       "      <th>...</th>\n",
       "      <td>...</td>\n",
       "      <td>...</td>\n",
       "      <td>...</td>\n",
       "    </tr>\n",
       "    <tr>\n",
       "      <th>2995</th>\n",
       "      <td>science</td>\n",
       "      <td>Причиной \"влажного\" климата Титана оказались м...</td>\n",
       "      <td>Ученые прояснили причины \"влажного\" климата Ти...</td>\n",
       "    </tr>\n",
       "    <tr>\n",
       "      <th>2996</th>\n",
       "      <td>life</td>\n",
       "      <td>Британка нашла геккона в пакете с брокколи</td>\n",
       "      <td>Жительница Великобритании нашла геккона в паке...</td>\n",
       "    </tr>\n",
       "    <tr>\n",
       "      <th>2997</th>\n",
       "      <td>business</td>\n",
       "      <td>Владелец «Мечела» предложил закрыть в России в...</td>\n",
       "      <td>Совладелец горно-металлургического холдинга «М...</td>\n",
       "    </tr>\n",
       "    <tr>\n",
       "      <th>2998</th>\n",
       "      <td>science</td>\n",
       "      <td>Nokia выпустит ОС для бюджетных смартфонов</td>\n",
       "      <td>Компания Nokia разрабатывает операционную сист...</td>\n",
       "    </tr>\n",
       "    <tr>\n",
       "      <th>2999</th>\n",
       "      <td>life</td>\n",
       "      <td>В Калифорнии появилось радио для собак и кошек</td>\n",
       "      <td>В Лос-Анджелесе вещает радиостанция для домашн...</td>\n",
       "    </tr>\n",
       "  </tbody>\n",
       "</table>\n",
       "<p>3000 rows × 3 columns</p>\n",
       "</div>"
      ],
      "text/plain": [
       "         label                                             header  \\\n",
       "0      culture  Жительница Ямала победила в первом песенном ко...   \n",
       "1        media  Почти половина Twitter-пользователей никогда н...   \n",
       "2        media  Билайн начал рекламу роуминга под песенку \"Тро...   \n",
       "3     business  Saipem потеряла 1,2 миллиарда евро из-за отмен...   \n",
       "4      culture    Вин Дизель назвал «Форсаж 7» достойным «Оскара»   \n",
       "...        ...                                                ...   \n",
       "2995   science  Причиной \"влажного\" климата Титана оказались м...   \n",
       "2996      life         Британка нашла геккона в пакете с брокколи   \n",
       "2997  business  Владелец «Мечела» предложил закрыть в России в...   \n",
       "2998   science         Nokia выпустит ОС для бюджетных смартфонов   \n",
       "2999      life     В Калифорнии появилось радио для собак и кошек   \n",
       "\n",
       "                                                   text  \n",
       "0     Жительница Ямало-Ненецкого автономного округа ...  \n",
       "1     Около 44 процентов из всех зарегистрированных ...  \n",
       "2     В новой рекламной кампании мобильного оператор...  \n",
       "3     Дочерняя структура итальянского нефтегазового ...  \n",
       "4     Актер Вин Дизель заявил, что боевик «Форсаж 7»...  \n",
       "...                                                 ...  \n",
       "2995  Ученые прояснили причины \"влажного\" климата Ти...  \n",
       "2996  Жительница Великобритании нашла геккона в паке...  \n",
       "2997  Совладелец горно-металлургического холдинга «М...  \n",
       "2998  Компания Nokia разрабатывает операционную сист...  \n",
       "2999  В Лос-Анджелесе вещает радиостанция для домашн...  \n",
       "\n",
       "[3000 rows x 3 columns]"
      ]
     },
     "execution_count": 4,
     "metadata": {},
     "output_type": "execute_result"
    }
   ],
   "source": [
    "news_test"
   ]
  },
  {
   "cell_type": "code",
   "execution_count": 5,
   "metadata": {},
   "outputs": [],
   "source": [
    "analyzer = pymorphy2.MorphAnalyzer()"
   ]
  },
  {
   "cell_type": "code",
   "execution_count": 6,
   "metadata": {},
   "outputs": [],
   "source": [
    "WORD_PATTERN = '(?u)\\\\b\\\\w\\\\w+\\\\b'  \n",
    "reg_exp = re.compile(pattern=WORD_PATTERN)"
   ]
  },
  {
   "cell_type": "code",
   "execution_count": 7,
   "metadata": {},
   "outputs": [],
   "source": [
    "news_train['tokens'] = [\n",
    "    [analyzer.parse(word)[0].normal_form for word in reg_exp.findall(text.lower())]\n",
    "    for text in news_train['text']\n",
    "]"
   ]
  },
  {
   "cell_type": "code",
   "execution_count": 8,
   "metadata": {},
   "outputs": [],
   "source": [
    "news_test['tokens'] = [\n",
    "    [analyzer.parse(word)[0].normal_form for word in reg_exp.findall(text.lower())]\n",
    "    for text in news_test['text']\n",
    "]"
   ]
  },
  {
   "cell_type": "markdown",
   "metadata": {},
   "source": [
    "## Задание 6.2\n",
    "\n",
    "Обучить word embeddings (fastText, word2vec, gloVe) на тренировочных данных. Можно использовать [gensim](https://radimrehurek.com/gensim/models/word2vec.html) . Продемонстрировать семантические ассоциации. "
   ]
  },
  {
   "cell_type": "code",
   "execution_count": 9,
   "metadata": {},
   "outputs": [],
   "source": [
    "from gensim.models.word2vec import Word2Vec\n",
    "from gensim.models.callbacks import CallbackAny2Vec"
   ]
  },
  {
   "cell_type": "code",
   "execution_count": 10,
   "metadata": {},
   "outputs": [],
   "source": [
    "sentences = news_train['tokens'].values"
   ]
  },
  {
   "cell_type": "code",
   "execution_count": 11,
   "metadata": {},
   "outputs": [],
   "source": [
    "class LossLogger(CallbackAny2Vec):\n",
    "    def __init__(self):\n",
    "        self.epoch = 0\n",
    "\n",
    "    def on_epoch_end(self, model):\n",
    "        loss = model.get_latest_training_loss()\n",
    "        if self.epoch == 0:\n",
    "            print('Loss after epoch {}: {}'.format(self.epoch, loss))\n",
    "        else:\n",
    "            print('Loss after epoch {}: {}'.format(self.epoch, loss - self.loss_previous_step))\n",
    "        self.epoch += 1\n",
    "        self.loss_previous_step = loss"
   ]
  },
  {
   "cell_type": "code",
   "execution_count": 12,
   "metadata": {},
   "outputs": [],
   "source": [
    "w2v_model = Word2Vec(min_count=1, sg=1, workers=8)\n",
    "w2v_model.build_vocab(sentences)"
   ]
  },
  {
   "cell_type": "code",
   "execution_count": 13,
   "metadata": {},
   "outputs": [
    {
     "name": "stdout",
     "output_type": "stream",
     "text": [
      "Loss after epoch 0: 4451133.0\n",
      "Loss after epoch 1: 2972504.0\n",
      "Loss after epoch 2: 2941971.0\n",
      "Loss after epoch 3: 2842250.0\n",
      "Loss after epoch 4: 2941605.0\n",
      "Loss after epoch 5: 2335597.0\n",
      "Loss after epoch 6: 2504094.0\n",
      "Loss after epoch 7: 2360644.0\n",
      "Loss after epoch 8: 2497062.0\n",
      "Loss after epoch 9: 2184636.0\n",
      "Loss after epoch 10: 2388058.0\n",
      "Loss after epoch 11: 2462740.0\n",
      "Loss after epoch 12: 1559406.0\n",
      "Loss after epoch 13: 1322512.0\n",
      "Loss after epoch 14: 1187244.0\n",
      "Loss after epoch 15: 1232496.0\n",
      "Loss after epoch 16: 1219600.0\n",
      "Loss after epoch 17: 1247796.0\n",
      "Loss after epoch 18: 1166628.0\n",
      "Loss after epoch 19: 1148372.0\n"
     ]
    },
    {
     "data": {
      "text/plain": [
       "(49036353, 53022760)"
      ]
     },
     "execution_count": 13,
     "metadata": {},
     "output_type": "execute_result"
    }
   ],
   "source": [
    "w2v_model.train(\n",
    "    corpus_iterable=sentences,\n",
    "    total_examples=w2v_model.corpus_count,\n",
    "    epochs=20,\n",
    "    compute_loss=True,\n",
    "    callbacks=[LossLogger()]\n",
    ")"
   ]
  },
  {
   "cell_type": "code",
   "execution_count": 14,
   "metadata": {},
   "outputs": [
    {
     "data": {
      "text/plain": [
       "[('хоккей', 0.7785260677337646),\n",
       " ('сборная', 0.7456079721450806),\n",
       " ('чемпионат', 0.7218098044395447),\n",
       " ('чм', 0.715583324432373),\n",
       " ('фифа', 0.7150311470031738)]"
      ]
     },
     "execution_count": 14,
     "metadata": {},
     "output_type": "execute_result"
    }
   ],
   "source": [
    "w2v_model.wv.most_similar(positive=['футбол'], topn=5)"
   ]
  },
  {
   "cell_type": "code",
   "execution_count": 15,
   "metadata": {},
   "outputs": [
    {
     "data": {
      "text/plain": [
       "[('картина', 0.8522942066192627),\n",
       " ('полнометражный', 0.7678956389427185),\n",
       " ('режиссёр', 0.7641991376876831),\n",
       " ('неудержимый', 0.7224044799804688),\n",
       " ('полнометражка', 0.715556263923645)]"
      ]
     },
     "execution_count": 15,
     "metadata": {},
     "output_type": "execute_result"
    }
   ],
   "source": [
    "w2v_model.wv.most_similar(positive=['фильм'], topn=5)"
   ]
  },
  {
   "cell_type": "code",
   "execution_count": 16,
   "metadata": {},
   "outputs": [
    {
     "data": {
      "text/plain": [
       "[('iphone', 0.8077396154403687),\n",
       " ('samsung', 0.7983869910240173),\n",
       " ('microsoft', 0.7740789651870728),\n",
       " ('смартфон', 0.7692180275917053),\n",
       " ('motorola', 0.7642343640327454)]"
      ]
     },
     "execution_count": 16,
     "metadata": {},
     "output_type": "execute_result"
    }
   ],
   "source": [
    "w2v_model.wv.most_similar(positive=['apple'], topn=5)"
   ]
  },
  {
   "cell_type": "code",
   "execution_count": 17,
   "metadata": {},
   "outputs": [
    {
     "data": {
      "text/plain": [
       "[('microsoft', 0.8154850006103516),\n",
       " ('поисковик', 0.8139421939849854),\n",
       " ('bing', 0.7637169361114502),\n",
       " ('сервис', 0.7595903277397156),\n",
       " ('yahoo', 0.753369927406311)]"
      ]
     },
     "execution_count": 17,
     "metadata": {},
     "output_type": "execute_result"
    }
   ],
   "source": [
    "w2v_model.wv.most_similar(positive=['google'], topn=5)"
   ]
  },
  {
   "cell_type": "markdown",
   "metadata": {},
   "source": [
    "## Задание 6.3\n",
    "\n",
    "Реализовать алгоритм классификации документа по категориям, посчитать точноть на тестовых данных, подобрать гиперпараметры. Метод векторизации выбрать произвольно - можно использовать $tf-idf$ с понижением размерности (см. scikit-learn), можно использовать обученные на предыдущем шаге векторные представления, можно использовать [предобученные модели](https://rusvectores.org/ru/models/). Имейте ввиду, что простое \"усреднение\" токенов в тексте скорее всего не даст положительных результатов. Нужно реализовать два алгоритмов из трех:\n",
    "- SVM\n",
    "- наивный байесовский классификатор\n",
    "- логистическая регрессия"
   ]
  },
  {
   "cell_type": "code",
   "execution_count": 19,
   "metadata": {},
   "outputs": [],
   "source": [
    "from sklearn.feature_extraction.text import TfidfVectorizer\n",
    "from sklearn.linear_model import LogisticRegression\n",
    "from sklearn.svm import SVC"
   ]
  },
  {
   "cell_type": "code",
   "execution_count": 25,
   "metadata": {},
   "outputs": [],
   "source": [
    "from sklearn.model_selection import GridSearchCV"
   ]
  },
  {
   "cell_type": "code",
   "execution_count": 21,
   "metadata": {},
   "outputs": [],
   "source": [
    "X_train = [' '.join(tokens) for tokens in news_train['tokens']]\n",
    "y_train = news_train['label']\n",
    "X_test = [' '.join(tokens) for tokens in news_test['tokens']]\n",
    "y_test = news_test['label']"
   ]
  },
  {
   "cell_type": "code",
   "execution_count": 22,
   "metadata": {},
   "outputs": [],
   "source": [
    "tfidf = TfidfVectorizer()\n",
    "X_train_tfidf = tfidf.fit_transform(X_train)"
   ]
  },
  {
   "cell_type": "code",
   "execution_count": 29,
   "metadata": {
    "scrolled": true
   },
   "outputs": [
    {
     "data": {
      "text/plain": [
       "(15000, 89169)"
      ]
     },
     "execution_count": 29,
     "metadata": {},
     "output_type": "execute_result"
    }
   ],
   "source": [
    "X_train_tfidf.shape"
   ]
  },
  {
   "cell_type": "code",
   "execution_count": null,
   "metadata": {},
   "outputs": [],
   "source": [
    "logreg_cv = GridSearchCV(LogisticRegression(),\n",
    "                        param_grid={'C': [0.001, 0.01, 0.1, 1, 10]})\n",
    "\n",
    "logreg_cv.fit(X_train_tfidf, y_train)"
   ]
  },
  {
   "cell_type": "code",
   "execution_count": 31,
   "metadata": {},
   "outputs": [
    {
     "data": {
      "text/html": [
       "<div>\n",
       "<style scoped>\n",
       "    .dataframe tbody tr th:only-of-type {\n",
       "        vertical-align: middle;\n",
       "    }\n",
       "\n",
       "    .dataframe tbody tr th {\n",
       "        vertical-align: top;\n",
       "    }\n",
       "\n",
       "    .dataframe thead th {\n",
       "        text-align: right;\n",
       "    }\n",
       "</style>\n",
       "<table border=\"1\" class=\"dataframe\">\n",
       "  <thead>\n",
       "    <tr style=\"text-align: right;\">\n",
       "      <th></th>\n",
       "      <th>rank_test_score</th>\n",
       "      <th>param_C</th>\n",
       "      <th>mean_test_score</th>\n",
       "      <th>std_test_score</th>\n",
       "    </tr>\n",
       "  </thead>\n",
       "  <tbody>\n",
       "    <tr>\n",
       "      <th>0</th>\n",
       "      <td>5</td>\n",
       "      <td>0.001</td>\n",
       "      <td>0.246867</td>\n",
       "      <td>0.002696</td>\n",
       "    </tr>\n",
       "    <tr>\n",
       "      <th>1</th>\n",
       "      <td>4</td>\n",
       "      <td>0.01</td>\n",
       "      <td>0.725733</td>\n",
       "      <td>0.003929</td>\n",
       "    </tr>\n",
       "    <tr>\n",
       "      <th>2</th>\n",
       "      <td>3</td>\n",
       "      <td>0.1</td>\n",
       "      <td>0.800600</td>\n",
       "      <td>0.004683</td>\n",
       "    </tr>\n",
       "    <tr>\n",
       "      <th>3</th>\n",
       "      <td>2</td>\n",
       "      <td>1</td>\n",
       "      <td>0.860067</td>\n",
       "      <td>0.001511</td>\n",
       "    </tr>\n",
       "    <tr>\n",
       "      <th>4</th>\n",
       "      <td>1</td>\n",
       "      <td>10</td>\n",
       "      <td>0.879400</td>\n",
       "      <td>0.002489</td>\n",
       "    </tr>\n",
       "  </tbody>\n",
       "</table>\n",
       "</div>"
      ],
      "text/plain": [
       "   rank_test_score param_C  mean_test_score  std_test_score\n",
       "0                5   0.001         0.246867        0.002696\n",
       "1                4    0.01         0.725733        0.003929\n",
       "2                3     0.1         0.800600        0.004683\n",
       "3                2       1         0.860067        0.001511\n",
       "4                1      10         0.879400        0.002489"
      ]
     },
     "execution_count": 31,
     "metadata": {},
     "output_type": "execute_result"
    }
   ],
   "source": [
    "pd.DataFrame(logreg_cv.cv_results_)[[\"rank_test_score\", \"param_C\", \"mean_test_score\", \"std_test_score\"]]"
   ]
  },
  {
   "cell_type": "code",
   "execution_count": 33,
   "metadata": {},
   "outputs": [
    {
     "data": {
      "text/plain": [
       "GridSearchCV(cv=3, estimator=SVC(), n_jobs=-1, param_grid={'C': [0.01, 0.1, 1]})"
      ]
     },
     "execution_count": 33,
     "metadata": {},
     "output_type": "execute_result"
    }
   ],
   "source": [
    "svm_cv = GridSearchCV(SVC(),\n",
    "                      param_grid={'C': [0.01, 0.1, 1]},\n",
    "                      n_jobs=-1, cv=3)\n",
    "\n",
    "svm_cv.fit(X_train_tfidf, y_train)"
   ]
  },
  {
   "cell_type": "code",
   "execution_count": 35,
   "metadata": {},
   "outputs": [
    {
     "data": {
      "text/html": [
       "<div>\n",
       "<style scoped>\n",
       "    .dataframe tbody tr th:only-of-type {\n",
       "        vertical-align: middle;\n",
       "    }\n",
       "\n",
       "    .dataframe tbody tr th {\n",
       "        vertical-align: top;\n",
       "    }\n",
       "\n",
       "    .dataframe thead th {\n",
       "        text-align: right;\n",
       "    }\n",
       "</style>\n",
       "<table border=\"1\" class=\"dataframe\">\n",
       "  <thead>\n",
       "    <tr style=\"text-align: right;\">\n",
       "      <th></th>\n",
       "      <th>rank_test_score</th>\n",
       "      <th>param_C</th>\n",
       "      <th>mean_test_score</th>\n",
       "      <th>std_test_score</th>\n",
       "    </tr>\n",
       "  </thead>\n",
       "  <tbody>\n",
       "    <tr>\n",
       "      <th>0</th>\n",
       "      <td>3</td>\n",
       "      <td>0.01</td>\n",
       "      <td>0.147667</td>\n",
       "      <td>0.000094</td>\n",
       "    </tr>\n",
       "    <tr>\n",
       "      <th>1</th>\n",
       "      <td>2</td>\n",
       "      <td>0.1</td>\n",
       "      <td>0.653067</td>\n",
       "      <td>0.007028</td>\n",
       "    </tr>\n",
       "    <tr>\n",
       "      <th>2</th>\n",
       "      <td>1</td>\n",
       "      <td>1</td>\n",
       "      <td>0.855533</td>\n",
       "      <td>0.001893</td>\n",
       "    </tr>\n",
       "  </tbody>\n",
       "</table>\n",
       "</div>"
      ],
      "text/plain": [
       "   rank_test_score param_C  mean_test_score  std_test_score\n",
       "0                3    0.01         0.147667        0.000094\n",
       "1                2     0.1         0.653067        0.007028\n",
       "2                1       1         0.855533        0.001893"
      ]
     },
     "execution_count": 35,
     "metadata": {},
     "output_type": "execute_result"
    }
   ],
   "source": [
    "pd.DataFrame(svm_cv.cv_results_)[['rank_test_score', 'param_C', 'mean_test_score', 'std_test_score']]"
   ]
  },
  {
   "cell_type": "code",
   "execution_count": 36,
   "metadata": {},
   "outputs": [
    {
     "name": "stderr",
     "output_type": "stream",
     "text": [
      "/home/vladimir/.local/lib/python3.8/site-packages/sklearn/feature_extraction/text.py:1208: UserWarning: Upper case characters found in vocabulary while 'lowercase' is True. These entries will not be matched with any documents\n",
      "  warnings.warn(\n"
     ]
    }
   ],
   "source": [
    "X_test_tfidf = tfidf.transform(X_test)"
   ]
  },
  {
   "cell_type": "code",
   "execution_count": 41,
   "metadata": {},
   "outputs": [],
   "source": [
    "from sklearn.metrics import accuracy_score, precision_score, recall_score"
   ]
  },
  {
   "cell_type": "code",
   "execution_count": 46,
   "metadata": {},
   "outputs": [
    {
     "name": "stdout",
     "output_type": "stream",
     "text": [
      "LogisticRegression\n",
      "Accuracy: 0.8903\n",
      "Precision: 0.8940\n",
      "Recall: 0.8903\n",
      "\n",
      "SVC\n",
      "Accuracy: 0.8797\n",
      "Precision: 0.8933\n",
      "Recall: 0.8797\n",
      "\n"
     ]
    }
   ],
   "source": [
    "for model in [logreg_cv.best_estimator_, svm_cv.best_estimator_]:\n",
    "    \n",
    "    y_pred = model.predict(X_test_tfidf)\n",
    "    \n",
    "    print(model.__class__.__name__)\n",
    "    print(f'Accuracy: {accuracy_score(y_pred, y_test):.4f}')\n",
    "    print(f'Precision: {precision_score(y_pred, y_test, average=\"weighted\"):.4f}')\n",
    "    print(f'Recall: {recall_score(y_pred, y_test, average=\"weighted\"):.4f}')\n",
    "    print()"
   ]
  }
 ],
 "metadata": {
  "kernelspec": {
   "display_name": "Python 3 (ipykernel)",
   "language": "python",
   "name": "python3"
  },
  "language_info": {
   "codemirror_mode": {
    "name": "ipython",
    "version": 3
   },
   "file_extension": ".py",
   "mimetype": "text/x-python",
   "name": "python",
   "nbconvert_exporter": "python",
   "pygments_lexer": "ipython3",
   "version": "3.8.10"
  },
  "vscode": {
   "interpreter": {
    "hash": "916dbcbb3f70747c44a77c7bcd40155683ae19c65e1c03b4aa3499c5328201f1"
   }
  }
 },
 "nbformat": 4,
 "nbformat_minor": 4
}
