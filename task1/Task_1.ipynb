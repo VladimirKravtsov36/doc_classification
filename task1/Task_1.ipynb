{
 "cells": [
  {
   "cell_type": "markdown",
   "metadata": {},
   "source": [
    "# Задание 1.2\n",
    "\n",
    "нужно написать функцию, которая принимает две строки и проверяет, входит ли хотя бы одна перестановка второй строки в первую. Например:\n",
    "\n",
    "> a = 'abcrotm'\n",
    "> \n",
    "> b = 'tro'\n",
    "\n",
    "функция def check_inv(a, b) вернет True, так как 'rot' содержится в 'abcrotm'. Нужно подумать как можно более оптимальный алгоритм и оценить его сложность. "
   ]
  },
  {
   "cell_type": "code",
   "execution_count": 1,
   "metadata": {
    "jupyter": {
     "outputs_hidden": true
    }
   },
   "outputs": [],
   "source": [
    "def check_inv(a: str, b: str) -> bool:\n",
    "      \n",
    "    b_hashmap = {char: b.count(char) for char in set(b)}\n",
    "    \n",
    "    for start in range(len(a)-len(b)+1):\n",
    "        \n",
    "        substring = a[start:start+len(b)]\n",
    "        substring_hashmap = {char: substring.count(char) for char in set(substring)}\n",
    "        \n",
    "        if b_hashmap == substring_hashmap:\n",
    "            return True\n",
    "        \n",
    "    return False"
   ]
  },
  {
   "cell_type": "markdown",
   "metadata": {},
   "source": [
    "# Задание 1.3\n",
    "\n",
    "Реализовать бинарное дерево (класс Tree), в нём методы __repr__, __str__, __iter__ (итерация только по листьям)."
   ]
  },
  {
   "cell_type": "code",
   "execution_count": 2,
   "metadata": {},
   "outputs": [
    {
     "data": {
      "text/plain": [
       "True"
      ]
     },
     "execution_count": 2,
     "metadata": {},
     "output_type": "execute_result"
    }
   ],
   "source": [
    "class Tree:\n",
    "    def __init__(self, value=None, left=None, right=None):\n",
    "        self.left = left\n",
    "        self.right = right\n",
    "        self.value = value\n",
    "        \n",
    "    def __iter__(self):\n",
    "        \n",
    "        if not self.left and not self.right:\n",
    "            yield self.value\n",
    "\n",
    "        if self.left:\n",
    "            yield from self.left\n",
    "\n",
    "        if self.right:\n",
    "            yield from self.right\n",
    "        \n",
    "    \n",
    "    def __str__(self) -> str:\n",
    "        return f'Tree({self.value})'\n",
    "    \n",
    "    def __repr__(self) -> str:\n",
    "        return f'Tree(value: {self.value}, left: {self.left}, right: {self.right})'\n",
    "    \n",
    "tree = Tree(0, Tree(1, Tree(3), Tree(4)),                             \n",
    "               Tree(2))\n",
    "\n",
    "list(tree) == [3, 4, 2]"
   ]
  },
  {
   "cell_type": "code",
   "execution_count": 3,
   "metadata": {},
   "outputs": [
    {
     "data": {
      "text/plain": [
       "Tree(value: 0, left: Tree(1), right: Tree(2))"
      ]
     },
     "execution_count": 3,
     "metadata": {},
     "output_type": "execute_result"
    }
   ],
   "source": [
    "tree"
   ]
  },
  {
   "cell_type": "code",
   "execution_count": 4,
   "metadata": {},
   "outputs": [
    {
     "name": "stdout",
     "output_type": "stream",
     "text": [
      "Tree(0)\n"
     ]
    }
   ],
   "source": [
    "print(tree)"
   ]
  },
  {
   "cell_type": "markdown",
   "metadata": {},
   "source": [
    "# Задание 1.4\n",
    "\n",
    "Реализовать простейший калькулятор математических выражений:\n",
    "- только целые числа\n",
    "- **+**, **\\-**, **\\***, **\\**\n",
    "- скобки\n",
    "\n",
    "**Можно использовать регулярные выражения**"
   ]
  },
  {
   "cell_type": "markdown",
   "metadata": {},
   "source": [
    "Здесь был использован алгоритм [обратной польской записи](https://ru.wikipedia.org/wiki/Обратная_польская_запись)"
   ]
  },
  {
   "cell_type": "code",
   "execution_count": 5,
   "metadata": {},
   "outputs": [],
   "source": [
    "from typing import List"
   ]
  },
  {
   "cell_type": "code",
   "execution_count": 6,
   "metadata": {},
   "outputs": [],
   "source": [
    "import re"
   ]
  },
  {
   "cell_type": "code",
   "execution_count": 7,
   "metadata": {},
   "outputs": [],
   "source": [
    "operations_priority = {'+': 0, '-': 0, '*': 1, '/': 1}\n",
    "\n",
    "def get_rpn(parsed_expr: List[str]) -> List[str]:\n",
    "    \n",
    "    output = []\n",
    "    stack = []\n",
    "    \n",
    "    for char in parsed_expr:\n",
    "        \n",
    "        if char.isdigit():\n",
    "            output.append(char)    \n",
    "        elif char == '(':\n",
    "            stack.append(char)\n",
    "        elif char == ')':\n",
    "            while stack[-1] != '(':\n",
    "                output.append(stack.pop())\n",
    "            stack.pop()\n",
    "        elif char in operations_priority:\n",
    "            try:        \n",
    "                while stack and operations_priority[stack[-1]] >= operations_priority[char]:\n",
    "                    output.append(stack.pop())\n",
    "            except KeyError:\n",
    "                pass\n",
    "            \n",
    "            stack.append(char)\n",
    "            \n",
    "    output += stack[::-1]\n",
    "    \n",
    "    return output"
   ]
  },
  {
   "cell_type": "code",
   "execution_count": 8,
   "metadata": {},
   "outputs": [],
   "source": [
    "def calc(expr: str) -> int:\n",
    "    \n",
    "    parsed_expr = re.findall(r'\\d+|[-*+/()]', expr)\n",
    "    rpn = get_rpn(parsed_expr)\n",
    "    stack = []\n",
    "    \n",
    "    for char in rpn:\n",
    "        if char.isdigit():\n",
    "            stack.append(char)\n",
    "        else:\n",
    "            r_operand, l_operand = int(stack.pop()), int(stack.pop())\n",
    "            \n",
    "            if char == '+':\n",
    "                stack.append(l_operand + r_operand)\n",
    "            elif char == '-':\n",
    "                stack.append(l_operand - r_operand)\n",
    "            elif char == '/':\n",
    "                stack.append(l_operand // r_operand)\n",
    "            elif char == '*':\n",
    "                stack.append(l_operand * r_operand)\n",
    "                \n",
    "    return stack[-1]           "
   ]
  },
  {
   "cell_type": "code",
   "execution_count": 9,
   "metadata": {},
   "outputs": [
    {
     "data": {
      "text/plain": [
       "True"
      ]
     },
     "execution_count": 9,
     "metadata": {},
     "output_type": "execute_result"
    }
   ],
   "source": [
    "calc('1 + 3 * (4 + 10 / 5)') == 19"
   ]
  },
  {
   "cell_type": "code",
   "execution_count": 10,
   "metadata": {},
   "outputs": [
    {
     "data": {
      "text/plain": [
       "True"
      ]
     },
     "execution_count": 10,
     "metadata": {},
     "output_type": "execute_result"
    }
   ],
   "source": [
    "calc('10 * ((2 - 12 / 6 + 9) + ((8 - 2*3) - 1))') == 100"
   ]
  },
  {
   "cell_type": "code",
   "execution_count": null,
   "metadata": {},
   "outputs": [],
   "source": []
  }
 ],
 "metadata": {
  "kernelspec": {
   "display_name": "Python 3 (ipykernel)",
   "language": "python",
   "name": "python3"
  },
  "language_info": {
   "codemirror_mode": {
    "name": "ipython",
    "version": 3
   },
   "file_extension": ".py",
   "mimetype": "text/x-python",
   "name": "python",
   "nbconvert_exporter": "python",
   "pygments_lexer": "ipython3",
   "version": "3.8.10"
  },
  "vscode": {
   "interpreter": {
    "hash": "916dbcbb3f70747c44a77c7bcd40155683ae19c65e1c03b4aa3499c5328201f1"
   }
  }
 },
 "nbformat": 4,
 "nbformat_minor": 4
}
